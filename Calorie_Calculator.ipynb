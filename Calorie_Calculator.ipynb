{
  "nbformat": 4,
  "nbformat_minor": 0,
  "metadata": {
    "colab": {
      "provenance": []
    },
    "kernelspec": {
      "name": "python3",
      "display_name": "Python 3"
    },
    "language_info": {
      "name": "python"
    }
  },
  "cells": [
    {
      "cell_type": "code",
      "execution_count": null,
      "metadata": {
        "colab": {
          "base_uri": "https://localhost:8080/"
        },
        "id": "ikLhP_t5wOIt",
        "outputId": "5a2d9de6-2dcd-4e17-a9c6-25ac31077011"
      },
      "outputs": [
        {
          "output_type": "stream",
          "name": "stdout",
          "text": [
            "\n",
            "Calorie Calculator - Daily Caloric Needs for a weight loss diet.\n",
            "\n"
          ]
        }
      ],
      "source": [
        "def main():\n",
        "# -------------------------------------------------------- do not touch ^\n",
        "   #DEFINE constant variables\n",
        "    MIN_AGE = 1\n",
        "    MAX_AGE = 100\n",
        "    MIN_HEIGHT = 10\n",
        "    MAX_HEIGHT = 100\n",
        "    MIN_WEIGHT = 10\n",
        "    MAX_WEIGHT = 500\n",
        "    x = ['W','M']\n",
        "\n",
        "    #PRINT title\n",
        "    print(\"\\nCalorie Calculator - Daily Caloric Needs for a weight loss diet.\")\n",
        "    print()\n",
        "    #GET age\n",
        "    age = int(input(\"What is your age in years:\\n\"))\n",
        "    #ERROR MESSAGE ------ if AGE is below 1 and above 100\n",
        "    if (age < MIN_AGE or age > MAX_AGE):\n",
        "        raise Exception('Program Exit! You entered incorrect age, age should be between 1 to 100')\n",
        "\n",
        "    #GET height\n",
        "    height = int(input(\"What is your height in inches?:\\n\"))\n",
        "    #ERROR MESSAGE ------ if HEIGHT is below 10 and above\n",
        "    if (height < MIN_HEIGHT or height > MAX_HEIGHT):\n",
        "        raise Exception('Program Exit! you entered incorrect height, height should be between 10 to 100')\n",
        "\n",
        "    #GET weight\n",
        "    weight = int(input(\"Enter your weight in pounds:\\n\"))\n",
        "    #ERROR MESSAGE ------ if WEIGHT is below 10 and above 500\n",
        "    if (weight < MIN_WEIGHT or weight > MAX_WEIGHT):\n",
        "        raise Exception('Program Exit! you entered incorrect weight, weight should be between 10 to 500')\n",
        "\n",
        "    #GET gender\n",
        "    gender = str(input(\"Enter 'M' for male calculation or 'W' for women calculation\\n\")).upper()\n",
        "\n",
        "    #ERROR MESSAGE ------ if gender is not M or W\n",
        "    if gender not in x:\n",
        "        raise ValueError('Program Exit! wrong letter')\n",
        "    # assign the gender_string \"male\" or \"female\"\n",
        "    gender_string = \"\"\n",
        "    #assign bmr to male or female based on input\n",
        "    if gender == \"M\":\n",
        "        gender_string = \"male\"\n",
        "        bmr = 66 + (6.3 * weight) + (12.9 * height) - (6.8 * age)\n",
        "    elif gender == \"W\":\n",
        "        gender_string = \"female\"\n",
        "        bmr = 665 + (4.3 * weight) + (4.7 * height) - (4.7 * age)\n",
        "\n",
        "    # print the options\n",
        "    print(\n",
        "        '''\n",
        "Are you:\n",
        "        A. Inactive (rarely exercise)\n",
        "        B. Somewhat active (exercise occasionally)\n",
        "        C. Active (exercise 3-4 days per week)\n",
        "        D. Highly active (exercise every day) '''\n",
        "    )\n",
        "\n",
        "    #assign percentages A = %20, B = %30 C = %40 D = %50\n",
        "    activity_level = str(input(\"Enter A,B,C, or D.\\n\")).upper()\n",
        "    if activity_level == 'A':\n",
        "        activity_percent = 1.2\n",
        "    elif activity_level == 'B':\n",
        "        activity_percent = 1.3\n",
        "    elif activity_level == 'C':\n",
        "        activity_percent = 1.4\n",
        "    elif activity_level == 'D':\n",
        "        activity_percent = 1.5\n",
        "\n",
        "#assigning bmr * activity_percent - 50 to calories_for_weight_loss\n",
        "    calories_for_weight_loss = bmr * activity_percent - 500\n",
        "\n",
        "    print(\"\\nCalculation Result:\\n\")\n",
        "    print(f\"A {gender_string} with those measurements is suggested to intake about {calories_for_weight_loss:.1f} kcal/day in order to lose ~1 lb/week!\")\n",
        "    print(\"\\n\\t\\t****Thank You For Using This Program!****\\n\")\n",
        "\n",
        "if __name__ == '__main__':\n",
        "    main()\n"
      ]
    }
  ]
}